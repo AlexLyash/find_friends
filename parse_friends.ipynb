{
 "cells": [
  {
   "cell_type": "code",
   "execution_count": 23,
   "metadata": {},
   "outputs": [],
   "source": [
    "import vk_api\n",
    "import time\n",
    "from progressbar import ProgressBar, Percentage, Bar, ETA\n",
    "from itertools import groupby"
   ]
  },
  {
   "cell_type": "code",
   "execution_count": 24,
   "metadata": {},
   "outputs": [],
   "source": [
    "API_VERSION = '5.92'\n",
    "APP_ID = 6973103\n",
    "\n",
    "# 2FA обработчик\n",
    "def auth_handler():\n",
    "    key = input('Введите код двухфакторной аутентификации: ')\n",
    "    remember_device = True\n",
    "    return key, remember_device\n",
    "\n",
    "# captcha обработчик\n",
    "def captcha_handler(captcha):\n",
    "    key = input(f\"Введите капчу ({captcha.get_url()}): \").strip()\n",
    "    return captcha.try_again(key)\n",
    "\n",
    "# авторизация по токену или логин-паролю\n",
    "def login_vk(token=None, login=None, password=None):\n",
    "    try:\n",
    "        if token:\n",
    "            vk_session = vk_api.VkApi(token=token, app_id=APP_ID, auth_handler=auth_handler,\n",
    "                                      api_version=API_VERSION)\n",
    "        elif login and password:\n",
    "            vk_session = vk_api.VkApi(login, password, captcha_handler=captcha_handler, app_id=APP_ID,\n",
    "                                      api_version=API_VERSION, auth_handler=auth_handler)\n",
    "            vk_session.auth(token_only=True, reauth=True)\n",
    "        else:\n",
    "            raise KeyError('Не введен токен или пара логин-пароль')\n",
    "            \n",
    "        return vk_session.get_api()\n",
    "    except Exception as e:\n",
    "        print(e)"
   ]
  },
  {
   "cell_type": "code",
   "execution_count": 25,
   "metadata": {},
   "outputs": [],
   "source": [
    "token = '82ae80bf32f3ed5e1b363a287516063a4440ef2cbd14de516314b3c590dc3ea75ffe2574ee9e90ea5eecf'\n",
    "vk = login_vk(token)"
   ]
  },
  {
   "cell_type": "code",
   "execution_count": 26,
   "metadata": {},
   "outputs": [],
   "source": [
    "def get_user_id(vk):\n",
    "    # получить свой id\n",
    "    try:\n",
    "        user_id = vk.users.get()[0]['id']\n",
    "        if not user_id:\n",
    "            raise KeyError('Не удалось получить данные пользователя')\n",
    "        return user_id\n",
    "    except Exception as e:\n",
    "        print(e)\n",
    "\n",
    "\n",
    "def get_friends(vk, user_id = get_user_id(vk)):\n",
    "    try:\n",
    "        friends = vk.friends.get(user_id = user_id, fields='photo_200_orig')\n",
    "        return friends['items']\n",
    "    except:\n",
    "        return [{'id': None,\n",
    "              'first_name': None,\n",
    "              'last_name': None,\n",
    "              'is_closed': None,\n",
    "              'can_access_closed': None,\n",
    "              'photo_200_orig': None,\n",
    "              'online': None}]\n",
    "\n",
    "    \n",
    "def delete_repeating(l):\n",
    "    n = []\n",
    "    for i in l:\n",
    "        if i not in n:\n",
    "            n.append(i)\n",
    "    return n\n",
    "\n",
    "\n",
    "def get_friends_of_friends(vk):\n",
    "    \n",
    "    \n",
    "    friends = get_friends(vk)\n",
    "    \n",
    "    # визуалзация проресса\n",
    "    progress, progress_maxval = 0, len(friends)\n",
    "    pbar = ProgressBar(widgets=['Progress ', Percentage(), Bar(), ' ', ETA(), ],\n",
    "                   maxval=progress_maxval).start()\n",
    "    \n",
    "    \n",
    "    friends_temp = [d['id'] for d in friends if 'id' in d]\n",
    "    for friend in friends_temp:\n",
    "        friends.extend(get_friends(vk, friend))\n",
    "        \n",
    "        progress += 1\n",
    "        pbar.update(progress)\n",
    "\n",
    "    friends_non_repeating = delete_repeating(friends)\n",
    "    \n",
    "    pbar.finish()\n",
    "    return friends_non_repeating\n",
    "    "
   ]
  },
  {
   "cell_type": "code",
   "execution_count": 27,
   "metadata": {},
   "outputs": [
    {
     "name": "stderr",
     "output_type": "stream",
     "text": [
      "Progress 100%|##################################################| Time: 0:02:21\r"
     ]
    },
    {
     "name": "stdout",
     "output_type": "stream",
     "text": [
      "--- 141.47579979896545 seconds ---\n"
     ]
    },
    {
     "name": "stderr",
     "output_type": "stream",
     "text": [
      "\n"
     ]
    }
   ],
   "source": [
    "start_time = time.time()\n",
    "\n",
    "z = get_friends_of_friends(vk)\n",
    "\n",
    "print(\"--- %s seconds ---\" % (time.time() - start_time))"
   ]
  },
  {
   "cell_type": "code",
   "execution_count": 36,
   "metadata": {},
   "outputs": [
    {
     "data": {
      "text/plain": [
       "{'id': 10858813,\n",
       " 'first_name': 'Александр',\n",
       " 'last_name': 'Кожанов',\n",
       " 'is_closed': False,\n",
       " 'can_access_closed': True,\n",
       " 'photo_200_orig': 'https://vk.com/images/camera_200.png?ava=1',\n",
       " 'online': 0}"
      ]
     },
     "execution_count": 36,
     "metadata": {},
     "output_type": "execute_result"
    }
   ],
   "source": [
    "# f = get_friends(vk)\n",
    "\n",
    "# ids = [d['id'] for d in f if 'id' in d]\n",
    "# str(ids)\n",
    "\n",
    "z[1000]"
   ]
  },
  {
   "cell_type": "code",
   "execution_count": 31,
   "metadata": {},
   "outputs": [],
   "source": [
    "import requests\n",
    "\n",
    "def save_photo(url):\n",
    "    temp = requests.get(url)\n",
    "    return temp\n",
    "\n",
    "a = save_photo('https://pp.userapi.com/c850420/v850420767/5571d/Fa_DhDh6R3I.jpg?ava=1')"
   ]
  },
  {
   "cell_type": "code",
   "execution_count": 33,
   "metadata": {},
   "outputs": [
    {
     "data": {
      "text/plain": [
       "31399"
      ]
     },
     "execution_count": 33,
     "metadata": {},
     "output_type": "execute_result"
    }
   ],
   "source": []
  },
  {
   "cell_type": "code",
   "execution_count": null,
   "metadata": {},
   "outputs": [],
   "source": [
    "async def asnc(link, title):\n",
    "    async with aiohttp.ClientSession() as session:\n",
    "        async with session.get('https://stackoverflow.com' + link) as resp:\n",
    "            fin = asparse(await resp.text())\n",
    "            return title, fin\n",
    "\n",
    "\n",
    "def parsing(link):\n",
    "    reqdata = {}\n",
    "    page = requests.get(link)\n",
    "    if page.ok is True:\n",
    "        soup = BeautifulSoup(page.content, 'html.parser')\n",
    "        themes = soup.find_all('a', attrs={'class': 'question-hyperlink'})\n",
    "        tasks = []\n",
    "        loop = asyncio.new_event_loop()\n",
    "        for theme in themes:\n",
    "            tasks.append(loop.create_task(asnc(theme['href'], theme.text)))\n",
    "        fin = loop.run_until_complete(asyncio.wait(tasks))\n",
    "        loop.close()\n",
    "        for i in fin[0]:\n",
    "            if i._result is not None:\n",
    "                reqdata[i._result[0]] = i._result[1]\n",
    "    return reqdata"
   ]
  },
  {
   "cell_type": "code",
   "execution_count": 25,
   "metadata": {},
   "outputs": [],
   "source": [
    "import shutil\n",
    "from itertools import repeat\n",
    "from multiprocessing.pool import Pool\n",
    "from os import cpu_count\n",
    "from os.path import join, exists\n",
    "PULL_PROCESSES = 4 * cpu_count()\n",
    "\n",
    "def download_engine(object_list, path):\n",
    "    with Pool(PULL_PROCESSES) as pool:\n",
    "        pool.starmap(download, zip(object_list, repeat(path)))\n",
    "\n",
    "def download(obj, root):\n",
    "    try:\n",
    "        filename, url = get_filename_url(obj)\n",
    "        path = join(root, filename)\n",
    "        if not exists(path):\n",
    "            r = requests.get(url, stream=True, timeout=(30, 5))\n",
    "            with open(path, 'wb') as f:\n",
    "                shutil.copyfileobj(r.raw, f)\n",
    "    except Exception as e:\n",
    "        print(e)\n",
    "        return False\n",
    "\n",
    "    \n",
    "def dump_docs(docs, path):\n",
    "    makedirs(path, exist_ok=True)\n",
    "    download_engine(docs['docs'], path)"
   ]
  },
  {
   "cell_type": "code",
   "execution_count": 15,
   "metadata": {},
   "outputs": [],
   "source": [
    "token = \"90f00b0911d5c1e849af49a22595725b3b1d1c14235e47542c59687b24ec177a21cae7b56eeef3c52b935\"\n",
    "vk = vk_api.VkApi(token=token, app_id=APP_ID).get_api()\n"
   ]
  },
  {
   "cell_type": "code",
   "execution_count": 16,
   "metadata": {},
   "outputs": [],
   "source": [
    "def get_griends_bot(vk, user_id):\n",
    "    friends = vk.users.get(user_id = user_id, fields = 'photo_200')\n",
    "    return friends"
   ]
  },
  {
   "cell_type": "code",
   "execution_count": 17,
   "metadata": {},
   "outputs": [
    {
     "data": {
      "text/plain": [
       "[{'id': 49853293,\n",
       "  'first_name': 'Марк',\n",
       "  'last_name': 'Антипин',\n",
       "  'is_closed': False,\n",
       "  'can_access_closed': True,\n",
       "  'photo_200': 'https://pp.userapi.com/c630222/v630222293/26501/7ddNCcIXCLY.jpg?ava=1'}]"
      ]
     },
     "execution_count": 17,
     "metadata": {},
     "output_type": "execute_result"
    }
   ],
   "source": [
    "f = get_griends_bot(vk, 49853293)\n",
    "f"
   ]
  },
  {
   "cell_type": "code",
   "execution_count": 20,
   "metadata": {},
   "outputs": [
    {
     "data": {
      "text/plain": [
       "str"
      ]
     },
     "execution_count": 20,
     "metadata": {},
     "output_type": "execute_result"
    }
   ],
   "source": [
    "type(str(f[0]['id']))"
   ]
  },
  {
   "cell_type": "code",
   "execution_count": 21,
   "metadata": {},
   "outputs": [
    {
     "data": {
      "text/plain": [
       "'49853293'"
      ]
     },
     "execution_count": 21,
     "metadata": {},
     "output_type": "execute_result"
    }
   ],
   "source": [
    "str(f[0]['id'])"
   ]
  },
  {
   "cell_type": "code",
   "execution_count": null,
   "metadata": {},
   "outputs": [],
   "source": []
  }
 ],
 "metadata": {
  "kernelspec": {
   "display_name": "Python 3",
   "language": "python",
   "name": "python3"
  },
  "language_info": {
   "codemirror_mode": {
    "name": "ipython",
    "version": 3
   },
   "file_extension": ".py",
   "mimetype": "text/x-python",
   "name": "python",
   "nbconvert_exporter": "python",
   "pygments_lexer": "ipython3",
   "version": "3.7.2"
  }
 },
 "nbformat": 4,
 "nbformat_minor": 2
}
